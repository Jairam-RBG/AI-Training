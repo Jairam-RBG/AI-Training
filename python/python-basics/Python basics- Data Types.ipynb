{
 "cells": [
  {
   "cell_type": "markdown",
   "metadata": {},
   "source": [
    "# Python Basics for Machine Learning\n",
    "\n",
    "# Data Types:\n",
    "\n",
    "Data types are the classification or categorization of data items. It represents the kind of value that tells what operations can be performed on a particular data. Since everything is an object in Python programming, data types are actually classes and variables are instance (object) of these classes.\n",
    "\n",
    "In python there are five types of built-in data types \n",
    "\n",
    "* Numeric\n",
    "* Sequence Type\n",
    "* Boolean \n",
    "* Set\n",
    "* Dictionary"
   ]
  },
  {
   "cell_type": "markdown",
   "metadata": {},
   "source": [
    "# Numeric\n",
    "\n",
    "In Python, numeric data type represent the data which has numeric value. Numeric value can be integer, floating number or even complex numbers. \n",
    "\n",
    "These values are defined as int, float and complex class in Python.\n",
    "\n",
    "* Integer - It contains positive or negative whole numbers (without fraction or decimal). \n",
    "* Float - It is a real number with floating point representation. It is specified by a decimal point. \n",
    "* Complex Numbers - It is represented by complex class. It is specified as (real part) + (imaginary part)j. For example – 2+3j.\n",
    "\n",
    "Note – type() function is used to determine the type of data type."
   ]
  },
  {
   "cell_type": "code",
   "execution_count": 3,
   "metadata": {},
   "outputs": [
    {
     "name": "stdout",
     "output_type": "stream",
     "text": [
      "Type of a:  <class 'int'>\n",
      "\n",
      "Type of b:  <class 'float'>\n",
      "\n",
      "Type of c:  <class 'complex'>\n"
     ]
    }
   ],
   "source": [
    "#Python program to demonstrate Numeric data types\n",
    "\n",
    "a = 5\n",
    "print(\"Type of a: \", type(a))\n",
    "  \n",
    "b = 5.0\n",
    "print(\"\\nType of b: \", type(b))\n",
    "  \n",
    "c = 2 + 4j\n",
    "print(\"\\nType of c: \", type(c))\n"
   ]
  },
  {
   "cell_type": "markdown",
   "metadata": {},
   "source": [
    "# Sequence Type\n",
    "\n",
    "In Python, sequence is the ordered collection of similar or different data types. Sequences allows to store multiple values in an organized and efficient fashion. There are several sequence types in Python\n",
    "\n",
    "* String\n",
    "* List\n",
    "* Tuple"
   ]
  },
  {
   "cell_type": "markdown",
   "metadata": {},
   "source": [
    "# String\n",
    "\n",
    "In Python, Strings are arrays of bytes representing Unicode characters.\n",
    "A string is a collection of one or more characters put in a single quote, double-quote or triple quote. Basically a string is represented by \"str\" in python."
   ]
  },
  {
   "cell_type": "code",
   "execution_count": 5,
   "metadata": {},
   "outputs": [
    {
     "name": "stdout",
     "output_type": "stream",
     "text": [
      "String with the use of Single Quotes: \n",
      "Welcome to RBG.AI\n",
      "\n",
      "String with the use of Double Quotes: \n",
      "Hello RBG\n",
      "<class 'str'>\n",
      "\n",
      "String with the use of Triple Quotes: \n",
      "Never Unprepared - \"RBG\"\n",
      "<class 'str'>\n",
      "\n",
      "Creating a multiline String: \n",
      "Welcome \n",
      "            to \n",
      "            AISS\n"
     ]
    }
   ],
   "source": [
    "# python program for creation of string\n",
    "\n",
    "# Creating a String  \n",
    "# with single Quotes \n",
    "\n",
    "String1 = 'Welcome to RBG.AI'\n",
    "print(\"String with the use of Single Quotes: \") \n",
    "print(String1) \n",
    "    \n",
    "# Creating a String \n",
    "# with double Quotes \n",
    "\n",
    "String1 = \"Hello RBG\"\n",
    "print(\"\\nString with the use of Double Quotes: \") \n",
    "print(String1) \n",
    "print(type(String1))\n",
    "    \n",
    "# Creating a String \n",
    "# with triple Quotes \n",
    "\n",
    "String1 = '''Never Unprepared - \"RBG\"'''\n",
    "print(\"\\nString with the use of Triple Quotes: \") \n",
    "print(String1) \n",
    "print(type(String1))\n",
    "  \n",
    "# Creating String with triple \n",
    "# Quotes allows multiple lines \n",
    "\n",
    "String1 = '''Welcome \n",
    "            to \n",
    "            AISS'''\n",
    "print(\"\\nCreating a multiline String: \") \n",
    "print(String1) "
   ]
  },
  {
   "cell_type": "markdown",
   "metadata": {},
   "source": [
    
    "# Accessing elements of string\n",
 
    "In Python, individual characters of a String can be accessed by using the method of Indexing. Indexing allows negative address references to access characters from the back of the String as well."
   ]
  },
  {
   "cell_type": "code",
   "execution_count": 6,
   "metadata": {},
   "outputs": [
    {
     "name": "stdout",
     "output_type": "stream",
     "text": [
      "Initial String: \n",
      "Welcome to RBG.AI\n",
      "\n",
      "First character of String is: \n",
      "W\n",
      "\n",
      "Last character of String is: \n",
      "I\n"
     ]
    }
   ],
   "source": [
    "#python program for accessing the characters of String \n",
    "    \n",
    "String1 = \"Welcome to RBG.AI\"\n",
    "print(\"Initial String: \") \n",
    "print(String1) \n",
    "    \n",
    "# Printing First character \n",
    "print(\"\\nFirst character of String is: \") \n",
    "print(String1[0]) \n",
    "    \n",
    "# Printing Last character \n",
    "print(\"\\nLast character of String is: \") \n",
    "print(String1[-1]) "
   ]
  },
  {
   "cell_type": "markdown",
   "metadata": {},
   "source": [
    "# List\n",
    "\n",
    "In python, \"Lists\" are just like the arrays, declared in other languages which is a ordered collection of data. It is very flexible as the items in a list do not need to be of the same type. List literals are written within square brackets [ ]. A single list may contain DataTypes like Integers, Strings, as well as Objects."
   ]
  },
  {
   "cell_type": "code",
   "execution_count": 9,
   "metadata": {},
   "outputs": [
    {
     "name": "stdout",
     "output_type": "stream",
     "text": [
      "Initial blank List: \n",
      "[]\n",
      "\n",
      "List with the use of String: \n",
      "['Welcome to RBG']\n",
      "\n",
      "List containing multiple values: \n",
      "Welcome\n",
      "RBG\n",
      "\n",
      "Multi-Dimensional List: \n",
      "[['Welcome', 'To'], ['RBG']]\n"
     ]
    }
   ],
   "source": [
    "# Python program to demonstrate Creation of List  \n",
    "    \n",
    "# Creating a List \n",
    "\n",
    "List = [] \n",
    "print(\"Initial blank List: \") \n",
    "print(List) \n",
    "    \n",
    "# Creating a List with  \n",
    "# the use of a String \n",
    "\n",
    "List = ['Welcome to RBG'] \n",
    "print(\"\\nList with the use of String: \") \n",
    "print(List) \n",
    "    \n",
    "# Creating a List with \n",
    "# the use of multiple values \n",
    "\n",
    "List = [\"Welcome\", \"To\", \"RBG\"] \n",
    "print(\"\\nList containing multiple values: \") \n",
    "print(List[0])  \n",
    "print(List[2]) \n",
    "    \n",
    "# Creating a Multi-Dimensional List \n",
    "# (By Nesting a list inside a List) \n",
    "\n",
    "List = [['Welcome', 'To'], ['RBG']] \n",
    "print(\"\\nMulti-Dimensional List: \") \n",
    "print(List) "
   ]
  },
  {
   "cell_type": "code",
   "execution_count": 10,
   "metadata": {},
   "outputs": [
    {
     "name": "stdout",
     "output_type": "stream",
     "text": [
      "Accessing element from the list\n",
      "Welcome\n",
      "RBG\n",
      "Accessing element using negative indexing\n",
      "RBG\n",
      "Welcome\n"
     ]
    }
   ],
   "source": [
    "# Python program to demonstrate  \n",
    "# accessing of element from list \n",
    "    \n",
    "# Creating a List with \n",
    "# the use of multiple values \n",
    "\n",
    "List = [\"Welcome\", \"to\", \"RBG\"] \n",
    "    \n",
    "# accessing a element from the  \n",
    "# list using index number \n",
    "print(\"Accessing element from the list\") \n",
    "print(List[0])  \n",
    "print(List[2]) \n",
    "  \n",
    "# accessing a element using \n",
    "# negative indexing \n",
    "print(\"Accessing element using negative indexing\") \n",
    "    \n",
    "# print the last element of list \n",
    "print(List[-1]) \n",
    "    \n",
    "# print the third last element of list  \n",
    "print(List[-3]) "
   ]
  },
  {
   "cell_type": "code",
   "execution_count": 39,
   "metadata": {},
   "outputs": [
    {
     "name": "stdout",
     "output_type": "stream",
     "text": [
      "['Hello', 'Welcome', 'All', 'RBG', 'AI', 'Never Unprepared']\n",
      "3\n",
      "['Hello', 'All', 'RBG', 'AI']\n"
     ]
    }
   ],
   "source": [
    "#python program for demonstrating list methods\n",
    "\n",
    "#Here the created list is for string\n",
    "\n",
    "List = [\"Hello\",\"to\"]\n",
    "List.append('RBG')                      ## append element at end\n",
    "List.insert(1, 'Welcome')               ## insert element at index 1\n",
    "List.extend(['AI', 'Never Unprepared']) ## add list of elements at end\n",
    "List[2] = 'All'                         ## replacing the value within the list\n",
    "\n",
    "print(List)  \n",
    "\n",
    "print(List.index('RBG'))                ## Printing the index of the word in the list\n",
    "\n",
    "List.remove('Never Unprepared')         ## search and remove that element\n",
    "\n",
    "List.pop(1)                             ## removes and returns 'Welcome'\n",
    "print(List)      \n",
    "\n",
    "##note these above methods do not return the modified list, they just modify the orginal list."
   ]
  },
  {
   "cell_type": "code",
   "execution_count": 42,
   "metadata": {},
   "outputs": [
    {
     "name": "stdout",
     "output_type": "stream",
     "text": [
      "[1, 2, 3, 4, 5, 'One']\n"
     ]
    }
   ],
   "source": [
    "##list for integers \n",
    "list = [1, 2, 3]\n",
    "\n",
    "list.append(4)\n",
    "list.insert(4, 5)\n",
    "list.extend(['One','two'])\n",
    "list.remove('two')\n",
    "\n",
    "print(list)  ## [1, 2, 3, 4]"
   ]
  },
  {
   "cell_type": "markdown",
   "metadata": {},
   "source": [
    "# Tuple\n",
    "\n",
    "Tuple is a collection of Python objects much like a list. The sequence of values stored in a tuple can be of any type, and they are indexed by integers. Values of a tuple are syntactically separated by ‘commas’. Although it is not necessary, it is more common to define a tuple by closing the sequence of values in parentheses. \n",
    "\n",
    "* The only difference between tuple and list is that tuples are immutable i.e. tuples cannot be modified after it is created. It is represented by tuple class.\n",
    "\n",
    "* Tuples can contain any number of elements and of any datatype (like strings, integers, list, etc.).\n",
    "\n"
   ]
  },
  {
   "cell_type": "code",
   "execution_count": 47,
   "metadata": {},
   "outputs": [
    {
     "name": "stdout",
     "output_type": "stream",
     "text": [
      "Initial empty Tuple: \n",
      "()\n",
      "\n",
      "Tuple with the use of String: \n",
      "('Hello', 'RBG')\n",
      "\n",
      "Tuple using List: \n",
      "(1, 2, 4, 5, 6)\n",
      "\n",
      "Tuple with the use of built-in function: \n",
      "('R', 'B', 'G', '.', 'A', 'I')\n",
      "\n",
      "Tuple with nested tuples: \n",
      "((0, 1, 2, 3), ('Welcome', 'RBG'))\n"
     ]
    }
   ],
   "source": [
    "# Python Program for demonstrating creation of tuple \n",
    "\n",
    "# Creating an empty tuple \n",
    "Tuple1 = () \n",
    "print(\"Initial empty Tuple: \") \n",
    "print (Tuple1) \n",
    "    \n",
    "# Creating a Tuple with the use of Strings \n",
    "Tuple1 = ('Hello','RBG') \n",
    "print(\"\\nTuple with the use of String: \") \n",
    "print(Tuple1) \n",
    "    \n",
    "# Creating a Tuple with the use of list \n",
    "list1 = [1, 2, 4, 5, 6] \n",
    "print(\"\\nTuple using List: \") \n",
    "print(tuple(list1)) \n",
    "  \n",
    "# Creating a Tuple with the \n",
    "# use of built-in function \n",
    "Tuple1 = tuple('RBG.AI') \n",
    "print(\"\\nTuple with the use of built-in function: \") \n",
    "print(Tuple1) \n",
    "  \n",
    "# Creating a Tuple with nested tuples \n",
    "Tuple1 = (0, 1, 2, 3) \n",
    "Tuple2 = ('Welcome', 'RBG') \n",
    "Tuple3 = (Tuple1, Tuple2) \n",
    "\n",
    "print(\"\\nTuple with nested tuples: \") \n",
    "print(Tuple3) "
   ]
  },
  {
   "cell_type": "markdown",
   "metadata": {},
   "source": [
    "##Accessing the elements in a tuple.\n",
    "\n",
    "We use the index operator [] to access an item in a tuple. The index must be an integer. Nested tuples are accessed using nested indexing.\n",
    "\n",
    "Also there is an another method for accessing the tuple named \"unpacking\".\n",
    "\n",
    "Note: In unpacking of tuple number of variables on the left-hand side should be equal to a number of values in given tuple."
   ]
  },
  {
   "cell_type": "code",
   "execution_count": 50,
   "metadata": {},
   "outputs": [
    {
     "name": "stdout",
     "output_type": "stream",
     "text": [
      "First element of tuple\n",
      "Hello\n",
      "\n",
      "Last element of tuple\n",
      "RBG\n",
      "\n",
      "Third last element of tuple\n",
      "Welcome\n"
     ]
    }
   ],
   "source": [
    "# Python program to demonstrate accessing tuple via indexing\n",
    "  \n",
    "tuple1 = tuple(['Hello','Welcome','to','RBG'])\n",
    "  \n",
    "# Accessing element using indexing\n",
    "print(\"First element of tuple\")\n",
    "print(tuple1[0])\n",
    "  \n",
    "# Accessing element from last\n",
    "# negative indexing\n",
    "print(\"\\nLast element of tuple\")\n",
    "print(tuple1[-1])\n",
    "  \n",
    "print(\"\\nThird last element of tuple\")\n",
    "print(tuple1[-3])"
   ]
  },
  {
   "cell_type": "code",
   "execution_count": 52,
   "metadata": {},
   "outputs": [
    {
     "name": "stdout",
     "output_type": "stream",
     "text": [
      "\n",
      "First element of Tuple: \n",
      "B\n",
      "\n",
      "Values after unpacking: \n",
      "Welcome\n",
      "to\n",
      "RBG\n"
     ]
    }
   ],
   "source": [
    "# python program to demonstrate accesing of tuple via unpacking\n",
    "\n",
    "#Accessing Tuple\n",
    "#with Indexing\n",
    "Tuple1 = tuple(\"RBG\")\n",
    "print(\"\\nFirst element of Tuple: \")\n",
    "print(Tuple1[1])\n",
    " \n",
    " \n",
    "#Tuple unpacking\n",
    "Tuple1 = (\"Welcome\",\"to\",'RBG')\n",
    " \n",
    "#This line unpack\n",
    "#values of Tuple1\n",
    "a, b, c = Tuple1\n",
    "print(\"\\nValues after unpacking: \")\n",
    "print(a)\n",
    "print(b)\n",
    "print(c)"
   ]
  },
  {
   "cell_type": "code",
   "execution_count": 57,
   "metadata": {},
   "outputs": [
    {
     "name": "stdout",
     "output_type": "stream",
     "text": [
      "(0, 1, 2, 3, 'welcome', 'to', 'RBG')\n"
     ]
    }
   ],
   "source": [
    "# Concatenation of tuples\n",
    "Tuple1 = (0, 1, 2, 3)\n",
    "Tuple2 = ('welcome','to','RBG')\n",
    "Tuple3 = Tuple1+Tuple2\n",
    "print(Tuple3)"
   ]
  },
  {
   "cell_type": "markdown",
   "metadata": {},
   "source": [
    "#Slicing of Tuple\n",
    "\n",
    "Slicing of a Tuple is done to fetch a specific range or slice of sub-elements from a Tuple. Slicing can also be done to lists and arrays. "
   ]
  },
  {
   "cell_type": "code",
   "execution_count": 59,
   "metadata": {},
   "outputs": [
    {
     "name": "stdout",
     "output_type": "stream",
     "text": [
      "Removal of First Element: \n",
      "('E', 'L', 'L', 'O', 'R', 'B', 'G')\n",
      "\n",
      "Tuple after sequence of Element is reversed: \n",
      "('G', 'B', 'R', 'O', 'L', 'L', 'E', 'H')\n",
      "\n",
      "Printing elements between Range 4-9: \n",
      "('O', 'R')\n"
     ]
    }
   ],
   "source": [
    "# Slicing of a Tuple with Numbers\n",
    "\n",
    "Tuple1 = tuple('HELLORBG')\n",
    " \n",
    "# Removing First element\n",
    "print(\"Removal of First Element: \")\n",
    "print(Tuple1[1:])\n",
    " \n",
    "# Reversing the Tuple\n",
    "print(\"\\nTuple after sequence of Element is reversed: \")\n",
    "print(Tuple1[::-1])\n",
    " \n",
    "# Printing elements of a Range\n",
    "print(\"\\nPrinting elements between Range 4-9: \")\n",
    "print(Tuple1[4:6])"
   ]
  },
  {
   "cell_type": "markdown",
   "metadata": {},
   "source": [
    "# Boolean\n",
    "\n",
    "Data type with one of the two built-in values, True or False. Boolean objects that are equal to True are truthy (true), and those equal to False are falsy (false). \n",
    "\n",
    "But non-Boolean objects can be evaluated in Boolean context as well and determined to be true or false. \n",
    "\n",
    "Note – True and False with capital ‘T’ and ‘F’ are valid booleans otherwise python will throw an error."
   ]
  },
  {
   "cell_type": "code",
   "execution_count": 60,
   "metadata": {},
   "outputs": [
    {
     "data": {
      "text/plain": [
       "bool"
      ]
     },
     "execution_count": 60,
     "metadata": {},
     "output_type": "execute_result"
    }
   ],
   "source": [
    "a = True\n",
    "type(a)\n",
    " \n",
    "b = False\n",
    "type(b)"
   ]
  },
  {
   "cell_type": "code",
   "execution_count": 62,
   "metadata": {},
   "outputs": [
    {
     "name": "stdout",
     "output_type": "stream",
     "text": [
      "False\n",
      "False\n",
      "False\n",
      "False\n",
      "False\n",
      "True\n"
     ]
    }
   ],
   "source": [
    "#Evaluating Variables and expression\n",
    "\n",
    "# Returns False as x is not equal to y\n",
    "x = 5\n",
    "y = 10\n",
    "print(bool(x==y))\n",
    " \n",
    "# Returns False as x is None\n",
    "x = None\n",
    "print(bool(x))\n",
    " \n",
    "# Returns False as x is an empty sequence\n",
    "x = ()\n",
    "print(bool(x))\n",
    " \n",
    "# Returns False as x is an empty mapping\n",
    "x = {}\n",
    "print(bool(x))\n",
    " \n",
    "# Returns False as x is 0\n",
    "x = 0.0\n",
    "print(bool(x))\n",
    "\n",
    "# Returns True as x is a non empty string\n",
    "x = 'Hello RBG'\n",
    "print(bool(x))"
   ]
  },
  {
   "cell_type": "markdown",
   "metadata": {},
   "source": [
    "# Set\n",
    "\n",
    "In Python, Set is an unordered collection of data type that is iterable, mutable and has no duplicate elements. The order of elements in a set is undefined though it may consist of various elements.\n",
    "\n",
    "Sets can be created by using the built-in set() function with an iterable object or a sequence by placing the sequence inside \"curly braces\", separated by ‘comma’.\n",
    "\n",
    "Note – A set cannot have mutable elements like a \"list, set or dictionary, as its elements.\"  "
   ]
  },
  {
   "cell_type": "code",
   "execution_count": 6,
   "metadata": {},
   "outputs": [
    {
     "name": "stdout",
     "output_type": "stream",
     "text": [
      "Initial blank Set: \n",
      "set()\n",
      "\n",
      "Set with the use of String: \n",
      "{' ', 'H', 'R', 'B', 'G', 'O', 'E', 'L'}\n",
      "\n",
      "Set with the use of an Object: \n",
      "{'e', ' ', 'H', 'B', 'G', 'o', 'R', 'l'}\n",
      "\n",
      "Set with the use of List: \n",
      "{'rbg', 'to', 'welcome'}\n",
      "\n",
      "Set with the use of Numbers: \n",
      "{1, 2, 3, 4, 5, 6}\n",
      "\n",
      "Set with the use of Mixed Values\n",
      "{'Hello', 1, 4, 6, 'welcome', 'RBG'}\n"
     ]
    }
   ],
   "source": [
    "# Python program to demonstrate creation of Set in Python\n",
    " \n",
    "# Creating a Set\n",
    "set1 = set()\n",
    "print(\"Initial blank Set: \")\n",
    "print(set1)\n",
    " \n",
    "# Creating a Set with\n",
    "# the use of a String\n",
    "set1 = set(\"HELLO RBG\")\n",
    "print(\"\\nSet with the use of String: \")\n",
    "print(set1)\n",
    " \n",
    "# Creating a Set with\n",
    "# the use of Constructor\n",
    "# (Using object to Store String)\n",
    "String = 'Hello RBG'\n",
    "set1 = set(String)\n",
    "print(\"\\nSet with the use of an Object: \" )\n",
    "print(set1)\n",
    " \n",
    "# Creating a Set with\n",
    "# the use of a List\n",
    "set1 = set([\"welcome\",'to','rbg'])\n",
    "print(\"\\nSet with the use of List: \")\n",
    "print(set1)\n",
    "\n",
    "# Creating a Set with\n",
    "# a List of Numbers\n",
    "# (Having duplicate values)\n",
    "set1 = set([1, 2, 4, 4, 3, 3, 3, 6, 5])\n",
    "print(\"\\nSet with the use of Numbers: \")\n",
    "print(set1)\n",
    " \n",
    "# Creating a Set with\n",
    "# a mixed type of values\n",
    "# (Having numbers and strings)\n",
    "set1 = set([1, 'welcome', 'RBG', 4, 'Hello', 6, 'RBG'])\n",
    "print(\"\\nSet with the use of Mixed Values\")\n",
    "print(set1)"
   ]
  },
  {
   "cell_type": "code",
   "execution_count": 5,
   "metadata": {},
   "outputs": [
    {
     "name": "stdout",
     "output_type": "stream",
     "text": [
      "Initial blank Set: \n",
      "set()\n",
      "\n",
      "Set after Addition of Three elements: \n",
      "{'hello', 'RBG', ('never', 'unprepared')}\n"
     ]
    }
   ],
   "source": [
    "# Python program to demonstrate Addition of elements in a Set\n",
    " \n",
    "# Creating a Set\n",
    "set1 = set()\n",
    "print(\"Initial blank Set: \")\n",
    "print(set1)\n",
    " \n",
    "# Adding element and tuple to the Set\n",
    "set1.add('hello')   ##adding tuple \n",
    "set1.add('RBG')     ##adding tuple\n",
    "set1.add(('never','unprepared'))\n",
    "print(\"\\nSet after Addition of Three elements: \")\n",
    "print(set1)\n",
    " "
   ]
  },
  {
   "cell_type": "markdown",
   "metadata": {},
   "source": [
    "For addition of two or more elements \"Update()\" method is used. The update() method accepts lists, strings, tuples as well as other sets as its arguments. "
   ]
  },
  {
   "cell_type": "code",
   "execution_count": 4,
   "metadata": {},
   "outputs": [
    {
     "name": "stdout",
     "output_type": "stream",
     "text": [
      "\n",
      "Set after Addition of elements using Update: \n",
      "{'Hello', 'welcome', 'to', 'RBG', ('never', 'unprepared')}\n"
     ]
    }
   ],
   "source": [
    "# Python program to demonstrate\n",
    "# Addition of elements in a Set\n",
    " \n",
    "# Addition of elements to the Set\n",
    "# using Update function\n",
    "set1 = set([ 'welcome', 'to', ('never', 'unprepared')])\n",
    "set1.update(['Hello','RBG'])\n",
    "print(\"\\nSet after Addition of elements using Update: \")\n",
    "print(set1)"
   ]
  },
  {
   "cell_type": "code",
   "execution_count": 8,
   "metadata": {},
   "outputs": [
    {
     "name": "stdout",
     "output_type": "stream",
     "text": [
      "Initial Set: \n",
      "{1, 2, 3, 4, 5, 6, 7, 8, 9, 10, 11, 12}\n",
      "\n",
      "Set after Removal of two elements: \n",
      "{1, 2, 3, 4, 7, 8, 9, 10, 11, 12}\n",
      "\n",
      "Set after Discarding two elements: \n",
      "{1, 2, 3, 4, 7, 8, 9, 10}\n"
     ]
    }
   ],
   "source": [
    "# Python program to demonstrate Deletion of elements in a Set\n",
    " \n",
    "# Creating a Set\n",
    "set1 = set([1, 2, 3, 4, 5, 6,\n",
    "            7, 8, 9, 10, 11, 12])\n",
    "print(\"Initial Set: \")\n",
    "print(set1)\n",
    " \n",
    "# Removing elements from Set\n",
    "# using Remove() method\n",
    "set1.remove(5)\n",
    "set1.remove(6)\n",
    "print(\"\\nSet after Removal of two elements: \")\n",
    "print(set1)\n",
    " \n",
    "# Removing elements from Set\n",
    "# using Discard() method\n",
    "set1.discard(11)\n",
    "set1.discard(12)\n",
    "print(\"\\nSet after Discarding two elements: \")\n",
    "print(set1)"
   ]
  },
  {
   "cell_type": "markdown",
   "metadata": {},
   "source": [
    "# Dictionary\n",
    "\n",
    "Dictionary in Python is an unordered collection of data values, used to store data values like a map, which, unlike other Data Types that hold only a single value as an element, Dictionary holds \"key:value\" pair. Key-value is provided in the dictionary to make it more optimized. \n",
    "\n",
    "In Python, a Dictionary can be created by placing a sequence of elements within curly {} braces, separated by ‘comma’. Dictionary holds a pair of values, one being the Key and the other corresponding pair element being its \"Key:value\". Values in a dictionary can be of any data type and can be duplicated, whereas keys can’t be repeated and must be immutable. "
   ]
  },
  {
   "cell_type": "code",
   "execution_count": 52,
   "metadata": {},
   "outputs": [
    {
     "name": "stdout",
     "output_type": "stream",
     "text": [
      "\n",
      "Dictionary with the use of Integer Keys: \n",
      "{1: 'Welcome', 2: 'To', 3: 'RBG'}\n",
      "\n",
      "Dictionary with the use of Mixed Keys: \n",
      "{'Name': 'RBG', 1: [1, 2, 3, 4]}\n"
     ]
    }
   ],
   "source": [
    "# Creating a Dictionary with Integer Keys\n",
    "\n",
    "Dict = {1: 'Welcome', 2: 'To', 3: 'RBG'}\n",
    "print(\"\\nDictionary with the use of Integer Keys: \")\n",
    "print(Dict)\n",
    " \n",
    "# Creating a Dictionary\n",
    "# with Mixed keys\n",
    "Dict = {'Name': 'RBG', 1: [1, 2, 3, 4]}\n",
    "print(\"\\nDictionary with the use of Mixed Keys: \")\n",
    "print(Dict)"
   ]
  },
  {
   "cell_type": "code",
   "execution_count": 10,
   "metadata": {},
   "outputs": [
    {
     "name": "stdout",
     "output_type": "stream",
     "text": [
      "Empty Dictionary: \n",
      "{}\n",
      "\n",
      "Dictionary with the use of dict(): \n",
      "{1: 'Welcome', 2: 'To', 3: 'RBG'}\n",
      "\n",
      "Dictionary with each item as a pair: \n",
      "{1: 'Hello', 2: 'RBG'}\n"
     ]
    }
   ],
   "source": [
    "# Creating an empty Dictionary\n",
    "Dict = {}\n",
    "print(\"Empty Dictionary: \")\n",
    "print(Dict)\n",
    " \n",
    "# Creating a Dictionary\n",
    "# with dict() method\n",
    "Dict = dict({1: 'Welcome', 2: 'To', 3:'RBG'})\n",
    "print(\"\\nDictionary with the use of dict(): \")\n",
    "print(Dict)\n",
    " \n",
    "# Creating a Dictionary\n",
    "# with each item as a Pair\n",
    "Dict = dict([(1, 'Hello'), (2, 'RBG')])\n",
    "print(\"\\nDictionary with each item as a pair: \")\n",
    "print(Dict)"
   ]
  },
  {
   "cell_type": "code",
   "execution_count": 11,
   "metadata": {},
   "outputs": [
    {
     "name": "stdout",
     "output_type": "stream",
     "text": [
      "{1: 'AI', 2: 'For Life', 3: {'A': 'Welcome', 'B': 'To', 'C': 'RBG'}}\n"
     ]
    }
   ],
   "source": [
    "# Creating a Nested Dictionary\n",
    "# as shown in the below image\n",
    "Dict = {1: 'AI', 2: 'For Life',\n",
    "        3:{'A' : 'Welcome', 'B' : 'To', 'C' : 'RBG'}}\n",
    " \n",
    "print(Dict)"
   ]
  },
  {
   "cell_type": "markdown",
   "metadata": {},
   "source": [
    "# Adding Elements to a Dictionary\n",
    "\n",
    "In Python Dictionary, the Addition of elements can be done in multiple ways. One value at a time can be added to a Dictionary by defining value along with the key e.g. \"Dict[Key] = ‘Value’\". Updating an existing value in a Dictionary can be done by using the built-in update() method. Nested key values can also be added to an existing Dictionary. "
   ]
  },
  {
   "cell_type": "code",
   "execution_count": 17,
   "metadata": {},
   "outputs": [
    {
     "name": "stdout",
     "output_type": "stream",
     "text": [
      "Empty Dictionary: \n",
      "{}\n",
      "\n",
      "Dictionary after adding 3 elements: \n",
      "{0: 'AI', 2: 'For', 'RBG': 1}\n",
      "\n",
      "Dictionary after adding 3 elements: \n",
      "{0: 'AI', 2: 'For', 'RBG': 1, 'Value_set': (2, 3, 4)}\n",
      "\n",
      "Updated key value: \n",
      "{0: 'AI', 2: 'Welcome', 'RBG': 1, 'Value_set': (2, 3, 4)}\n",
      "\n",
      "Adding a Nested Key: \n",
      "{0: 'AI', 2: 'Welcome', 'RBG': 1, 'Value_set': (2, 3, 4), 5: {'Nested': {'1': 'Hello', '2': 'RBG'}}}\n"
     ]
    }
   ],
   "source": [
    "# Creating an empty Dictionary\n",
    "Dict = {}\n",
    "print(\"Empty Dictionary: \")\n",
    "print(Dict)\n",
    " \n",
    "# Adding elements one at a time\n",
    "Dict[0] = 'AI'\n",
    "Dict[2] = 'For'\n",
    "Dict['RBG'] = 1\n",
    "print(\"\\nDictionary after adding 3 elements: \")\n",
    "print(Dict)\n",
    " \n",
    "# Adding set of values to a single Key\n",
    "Dict['Value_set'] = 2, 3, 4\n",
    "print(\"\\nDictionary after adding 3 elements: \")\n",
    "print(Dict)\n",
    " \n",
    "# Updating existing Key's Value\n",
    "Dict[2] = 'Welcome'\n",
    "print(\"\\nUpdated key value: \")\n",
    "print(Dict)\n",
    " \n",
    "# Adding Nested Key value to Dictionary\n",
    "Dict[5] = {'Nested' :{'1' : 'Hello', '2' : 'RBG'}}\n",
    "print(\"\\nAdding a Nested Key: \")\n",
    "print(Dict)"
   ]
  },
  {
   "cell_type": "code",
   "execution_count": 24,
   "metadata": {},
   "outputs": [
    {
     "name": "stdout",
     "output_type": "stream",
     "text": [
      "Accessing a element using key:\n",
      "Welcome\n",
      "\n",
      "Accessing a element using key:\n",
      "to\n",
      "\n",
      "Accessing a element using get:\n",
      "RBG\n"
     ]
    }
   ],
   "source": [
    "# Python program to demonstrate \n",
    "# accessing a element from a Dictionary\n",
    " \n",
    "# Creating a Dictionary\n",
    "Dict = {1: 'Welcome', 'name': 'to', 3: 'RBG'}\n",
    " \n",
    "# accessing a element using key\n",
    "print(\"Accessing a element using key:\")\n",
    "print(Dict[1])\n",
    " \n",
    "# accessing a element using key\n",
    "print(\"\\nAccessing a element using key:\")\n",
    "print(Dict['name'])\n",
    "\n",
    "# accessing a element using get() method\n",
    "print(\"\\nAccessing a element using get:\")\n",
    "print(Dict.get(3))"
   ]
  },
  {
   "cell_type": "code",
   "execution_count": 26,
   "metadata": {},
   "outputs": [
    {
     "name": "stdout",
     "output_type": "stream",
     "text": [
      "{1: 'RBG'}\n",
      "RBG\n",
      "Welcomes You\n"
     ]
    }
   ],
   "source": [
    "# Python program to demostrate accessing elements from nested ditionary\n",
    "# Creating a Dictionary\n",
    "Dict = {'Dict1': {1: 'RBG'},\n",
    "        'Dict2': {'Name': 'Welcomes You'}}\n",
    " \n",
    "# Accessing element using key\n",
    "print(Dict['Dict1'])\n",
    "print(Dict['Dict1'][1])\n",
    "print(Dict['Dict2']['Name'])"
   ]
  },
  {
   "cell_type": "markdown",
   "metadata": {},
   "source": [
    "# Removing Elements from Dictionary\n",
    "\n",
    "In Python Dictionary, deletion of keys can be done by using the del keyword. Using the del keyword, specific values from a dictionary as well as the whole dictionary can be deleted. Items in a Nested dictionary can also be deleted by using the del keyword and providing a specific nested key and particular key to be deleted from that nested Dictionary."
   ]
  },
  {
   "cell_type": "code",
   "execution_count": 32,
   "metadata": {},
   "outputs": [
    {
     "name": "stdout",
     "output_type": "stream",
     "text": [
      "Initial Dictionary: \n",
      "{1: 'Welcome', 2: 'To', 3: 'RBG', 'A': {1: 'RBG', 2: 'Never', 3: 'Unprepared'}, 'B': {1: 'AI', 2: ' For Life'}}\n",
      "\n",
      "Deleting a specific key: \n",
      "{2: 'To', 3: 'RBG', 'A': {1: 'RBG', 2: 'Never', 3: 'Unprepared'}, 'B': {1: 'AI', 2: ' For Life'}}\n",
      "\n",
      "Deleting a key from Nested Dictionary: \n",
      "{2: 'To', 3: 'RBG', 'A': {1: 'RBG', 3: 'Unprepared'}, 'B': {1: 'AI', 2: ' For Life'}}\n",
      "\n",
      "Deleting second key from nested Dictionary\n",
      "{2: 'To', 3: 'RBG', 'A': {1: 'RBG', 3: 'Unprepared'}, 'B': {1: 'AI'}}\n"
     ]
    }
   ],
   "source": [
    "# Initial Dictionary\n",
    "Dict = { 1 : 'Welcome', 2 : 'To', 3 : 'RBG',\n",
    "        'A' : {1 : 'RBG', 2 : 'Never', 3 : 'Unprepared'},\n",
    "        'B' : {1 : 'AI', 2 : ' For Life'}}\n",
    "print(\"Initial Dictionary: \")\n",
    "print(Dict)\n",
    " \n",
    "# Deleting a Key value\n",
    "del Dict[1]\n",
    "print(\"\\nDeleting a specific key: \")\n",
    "print(Dict)\n",
    " \n",
    "# Deleting a Key from\n",
    "# Nested Dictionary\n",
    "del Dict['A'][2]'\n",
    "print(\"\\nDeleting a key from Nested Dictionary: \")\n",
    "print(Dict)\n",
    "\n",
    "del Dict['B'][2]\n",
    "print(\"\\nDeleting second key from nested Dictionary\")\n",
    "print(Dict)\n"
   ]
  },
  {
   "cell_type": "markdown",
   "metadata": {},
   "source": [
    "# Array\n",
    "\n",
    "An array is a collection of items stored at contiguous memory locations. The idea is to store multiple items of the same type together. This makes it easier to calculate the position of each element by simply adding an offset to a base value, i.e., the memory location of the first element of the array (generally denoted by the name of the array).\n",
    "\n",
    "Array can be handled in Python by a module named array. They can be useful when we have to manipulate only a specific data type values. "
   ]
  },
  {
   "cell_type": "markdown",
   "metadata": {},
   "source": [
    "# Creating a Array\n",
    "\n",
    "Array in Python can be created by \"importing array\" module. array(data_type, value_list) is used to create an array with data type and value list specified in its arguments."
   ]
  },
  {
   "cell_type": "code",
   "execution_count": 35,
   "metadata": {},
   "outputs": [
    {
     "name": "stdout",
     "output_type": "stream",
     "text": [
      "The new created array is :  1 2 3 \n",
      "The new created array is :  2.5 3.2 3.3 "
     ]
    }
   ],
   "source": [
    "# Python program to demonstrate\n",
    "# Creation of Array\n",
    " \n",
    "# importing \"array\" for array creations\n",
    "import array as arr\n",
    " \n",
    "# creating an array with integer type\n",
    "a = arr.array('i', [1, 2, 3])\n",
    " \n",
    "# printing original array\n",
    "print (\"The new created array is : \", end = \" \")\n",
    "for i in range (0, 3):\n",
    "    print (a[i], end =\" \")\n",
    "print()\n",
    " \n",
    "# creating an array with float type\n",
    "b = arr.array('d', [2.5, 3.2, 3.3])\n",
    " \n",
    "# printing original array\n",
    "print (\"The new created array is : \", end =\" \")\n",
    "for i in range (0, 3):\n",
    "    print (b[i], end =\" \")"
   ]
  },
  {
   "cell_type": "code",
   "execution_count": 40,
   "metadata": {},
   "outputs": [
    {
     "name": "stdout",
     "output_type": "stream",
     "text": [
      "Array before insertion :  1 2 3 \n",
      "Array after insertion :  1 4 2 3 \n",
      "Array before insertion :  2.5 3.2 3.3 \n",
      "Array after insertion :  2.5 3.2 3.3 4.4 \n"
     ]
    }
   ],
   "source": [
    "# Python program to demonstrate\n",
    "# Adding Elements to a Array\n",
    " \n",
    "# importing \"array\" for array creations\n",
    "import array as arr\n",
    " \n",
    "# array with int type\n",
    "a = arr.array('i', [1, 2, 3])\n",
    " \n",
    " \n",
    "print (\"Array before insertion : \", end =\" \")\n",
    "for i in range (0, 3):\n",
    "    print (a[i], end =\" \")\n",
    "print()\n",
    " \n",
    "# inserting array using\n",
    "# insert() function\n",
    "a.insert(1, 4)\n",
    " \n",
    "print (\"Array after insertion : \", end =\" \")\n",
    "for i in (a):\n",
    "    print (i, end =\" \")\n",
    "print()\n",
    " \n",
    "# array with float type\n",
    "b = arr.array('d', [2.5, 3.2, 3.3])\n",
    " \n",
    "print (\"Array before insertion : \", end =\" \")\n",
    "for i in range (0, 3):\n",
    "    print (b[i], end =\" \")\n",
    "print()\n",
    " \n",
    "# adding an element using append()\n",
    "b.append(4.4)\n",
    " \n",
    "print (\"Array after insertion : \", end =\" \")\n",
    "for i in (b):\n",
    "    print (i, end =\" \")\n",
    "print()"
   ]
  },
  {
   "cell_type": "code",
   "execution_count": 45,
   "metadata": {},
   "outputs": [
    {
     "name": "stdout",
     "output_type": "stream",
     "text": [
      "Access element is:  1\n",
      "Access element is:  4\n",
      "Access element is:  3.2\n",
      "Access element is:  3.3\n"
     ]
    }
   ],
   "source": [
    "# Python program to demonstrate\n",
    "# accessing of element from list\n",
    " \n",
    "# importing array module\n",
    "import array as arr\n",
    " \n",
    "# array with int type\n",
    "a = arr.array('i', [1, 2, 3, 4, 5, 6])\n",
    " \n",
    "# accessing element of array\n",
    "print(\"Access element is: \", a[0])\n",
    " \n",
    "# accessing element of array\n",
    "print(\"Access element is: \", a[3])\n",
    " \n",
    "# array with float type\n",
    "b = arr.array('d', [2.5, 3.2, 3.3,4.4])\n",
    " \n",
    "# accessing element of array\n",
    "print(\"Access element is: \", b[1])\n",
    " \n",
    "# accessing element of array\n",
    "print(\"Access element is: \", b[2])"
   ]
  },
  {
   "cell_type": "code",
   "execution_count": 46,
   "metadata": {},
   "outputs": [
    {
     "name": "stdout",
     "output_type": "stream",
     "text": [
      "Initial Array: \n",
      "1 2 3 4 5 6 7 8 9 10 \n",
      "Slicing elements in a range 3-8: \n",
      "array('i', [4, 5, 6, 7, 8])\n",
      "\n",
      "Elements sliced from 5th element till the end: \n",
      "array('i', [6, 7, 8, 9, 10])\n",
      "\n",
      "Printing all elements using slice operation: \n",
      "array('i', [1, 2, 3, 4, 5, 6, 7, 8, 9, 10])\n"
     ]
    }
   ],
   "source": [
    "# Python program to demonstrate\n",
    "# slicing of elements in a Array\n",
    " \n",
    "# importing array module\n",
    "import array as arr\n",
    " \n",
    "# creating a list\n",
    "l = [1, 2, 3, 4, 5, 6, 7, 8, 9, 10]\n",
    " \n",
    "a = arr.array('i', l)\n",
    "print(\"Initial Array: \")\n",
    "for i in (a):\n",
    "    print(i, end =\" \")\n",
    " \n",
    "# Print elements of a range\n",
    "# using Slice operation\n",
    "Sliced_array = a[3:8]\n",
    "print(\"\\nSlicing elements in a range 3-8: \")\n",
    "print(Sliced_array)\n",
    " \n",
    "# Print elements from a\n",
    "# pre-defined point to end\n",
    "Sliced_array = a[5:]\n",
    "print(\"\\nElements sliced from 5th \"\n",
    "      \"element till the end: \")\n",
    "print(Sliced_array)\n",
    " \n",
    "# Printing elements from beginning till end\n",
    "Sliced_array = a[:]\n",
    "print(\"\\nPrinting all elements using slice operation: \")\n",
    "print(Sliced_array)"
   ]
  },
  {
   "cell_type": "code",
   "execution_count": 51,
   "metadata": {},
   "outputs": [
    {
     "name": "stdout",
     "output_type": "stream",
     "text": [
      "Array before updation : 1 2 3 1 2 5 \r\n",
      "Array after updation : 1 2 6 1 2 5 \n",
      "Array after updation : 1 2 6 1 8 5 "
     ]
    }
   ],
   "source": [
    "# Python code to demonstrate\n",
    "# how to update an element in array\n",
    " \n",
    "# importing array module\n",
    "import array\n",
    " \n",
    "# initializing array with array values\n",
    "# initializes array with signed integers\n",
    "arr = array.array('i', [1, 2, 3, 1, 2, 5])\n",
    " \n",
    "# printing original array\n",
    "print (\"Array before updation : \", end =\"\")\n",
    "for i in range (0, 6):\n",
    "    print (arr[i], end =\" \")\n",
    " \n",
    "print ('\\r')  # is used to print the next output in new line\n",
    " \n",
    "# updating a element in a array\n",
    "arr[2] = 6\n",
    "print(\"Array after updation : \", end =\"\")\n",
    "for i in range (0, 6):\n",
    "    print (arr[i], end =\" \")\n",
    "print()\n",
    " \n",
    "# updating a element in a array\n",
    "arr[4] = 8\n",
    "print(\"Array after updation : \", end =\"\")\n",
    "for i in range (0, 6):\n",
    "    print (arr[i], end =\" \")"
   ]
  }
 ],
 "metadata": {
  "kernelspec": {
   "display_name": "Python 3",
   "language": "python",
   "name": "python3"
  },
  "language_info": {
   "codemirror_mode": {
    "name": "ipython",
    "version": 3
   },
   "file_extension": ".py",
   "mimetype": "text/x-python",
   "name": "python",
   "nbconvert_exporter": "python",
   "pygments_lexer": "ipython3",
   "version": "3.8.10"
  }
 },
 "nbformat": 4,
 "nbformat_minor": 4
}
