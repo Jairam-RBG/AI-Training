{
 "cells": [
  {
   "cell_type": "markdown",
   "metadata": {},
   "source": [
    "# Python Introduction\n",
    "\n",
    "Python is a widely used general-purpose, interpreted programming language. It was created by Guido van Rossum in 1991 and further developed by the Python Software Foundation. It was designed with an emphasis on code readability, and its syntax allows programmers to express their concepts in fewer lines of code.\n",
    "\n"
   ]
  },
  {
   "cell_type": "markdown",
   "metadata": {},
   "source": [
    "# Download and Install Python3\n",
    "\n",
    "Here we will give link to download and install python in your system/laptop. Follow the below instructuions top download and install python in windows, Linux, macOS.\n",
    "\n",
    "1. How to install Python on Windows?\n",
    "\n",
    "Since windows don’t come with Python preinstalled, it needs to be installed explicitly.\n",
    "\n",
    "1. First and foremost step is to open a browser and open https://www.python.org/downloads/windows/\n",
    "2. On this page move to Files and click on Windows x86-64 executable installer for 64-bit or Windows x86 executable installer for 32-bit.\n",
    "3. Run the Python Installer from downloads folder.\n",
    "4. Make sure to mark Add Python 3.7 to PATH otherwise you will have to do it explicitly.\n",
    "5. After installation is complete click on Close.\n",
    "\n",
    "Well done!! Now, Python is installed. Now go to windows and type IDLE.\n",
    "\n",
    "\n",
    "2. How to install Python on Linux?\n",
    "\n",
    "On every linux system including following OS,\n",
    "\n",
    "* Ubuntu\n",
    "* Linux Mint\n",
    "* Debian\n",
    "* openSUSE\n",
    "* CentOS\n",
    "* Fedora\n",
    "\n",
    "You will find Python already installed. You can check it using the following command from the terminal.\n",
    "\n",
    "1. Open the terminal and type \"python --version\".\n",
    "2. To check latest version of python type \" python2 --version\" or \"  python3 --version\".\n",
    "3. To update the existing python to python 3 type the below code in the terminal\n",
    "* * sudo apt-get update\n",
    "* * sudo apt-get install python3\n",
    "4. Another way for downloading and Installing Python is directly from the browser. To download Python for linux  open https://www.python.org/downloads/source/\n",
    "\n",
    "\n",
    "3. How to install Python on macOS / Mac OS X ?\n",
    "\n",
    "Like Linux, macOS also comes with Python pre-installed on the system. It might be Python version 2 or some similar outdated version. To update to the latest version, we will use the Homebrew Package manager. It is one of the best and convenient methods to install Python on macOS.\n",
    "\n",
    "1. If you don’t have homebrew installed on your system, follow the steps below\n",
    "2. Open the Terminal Application of macOS from Application -> Utilities. Bash terminal will open where you can enter commands.\n",
    "3. Enter following command in macOS terminal.\n",
    "4. \"(curl -fsSL https://raw.githubusercontent.com/Homebrew/install/master/install)\".  Enter the system password if prompted. This will install the Homebrew package Manager on your OS.\n",
    "5. After Installing Homebrew, To install python simple open Terminal app from Application -> Utilities and enter the following command.\n",
    "* * brew install python3.\n",
    "\n",
    "This will install python on your system.\n"
   ]
  },
  {
   "cell_type": "markdown",
   "metadata": {},
   "source": [
    "# Getting Started With Python"
   ]
  },
  {
   "cell_type": "markdown",
   "metadata": {},
   "source": [
    "# 1. Finding an interpreter\n",
    "\n",
    "Before we start Python programming, we need to have an interpreter to interpret and run our programs. There are certain online interpreters like Jupyter Notebook, Pycharm, Spyder etc. which needs to be indstalled before we start practicing the code.\n",
    "\n",
    "Windows: There are many interpreters available freely to run Python scripts like IDLE (Integrated Development Environment) that comes bundled with the Python software downloaded from http://python.org/.\n",
    "\n",
    "Linux: Python comes preinstalled with popular Linux distros such as Ubuntu and Fedora. To check which version of Python you’re running, type “python” in the terminal emulator. The interpreter should start and print the version number.\n",
    "\n",
    "macOS: Generally, Python 2.7 comes bundled with macOS. You’ll have to manually install Python 3 from http://python.org/."
   ]
  },
  {
   "cell_type": "markdown",
   "metadata": {},
   "source": [
    "# 2. Writing our first code\n",
    "\n",
    "Just after installing the interpreter follow the below code"
   ]
  },
  {
   "cell_type": "code",
   "execution_count": 2,
   "metadata": {},
   "outputs": [
    {
     "name": "stdout",
     "output_type": "stream",
     "text": [
      "Hello RBG\n"
     ]
    }
   ],
   "source": [
    "# Script begins\n",
    "\n",
    "print(\"Hello RBG\")\n",
    "\n",
    "# Script ends"
   ]
  },
  {
   "cell_type": "markdown",
   "metadata": {},
   "source": [
    "Line 1: In Python, comments begin with a \"#\". This statement is ignored by the interpreter and serves as documentation for our code.\n",
    "\n",
    "Line2: To print something on the console, print() function is used. This function also adds a newline after our message is printed(unlike in C). Note that in Python 2, “print” is not a function but a keyword and therefore can be used without parentheses. However, in Python 3, it is a function and must be invoked with parentheses.\n",
    "\n",
    "Line3: This is just another comment like in Line 1."
   ]
  },
  {
   "cell_type": "markdown",
   "metadata": {},
   "source": [
    "# Variables\n",
    "\n",
    "In other programming languages like C, C++, and Java, you will need to declare the type of variables but in Python you don’t need to do that. Just type in the variable and when values will be given to it, then it will automatically know whether the value given would be an int, float, or char or even a String."
   ]
  },
  {
   "cell_type": "code",
   "execution_count": 6,
   "metadata": {},
   "outputs": [
    {
     "name": "stdout",
     "output_type": "stream",
     "text": [
      "34\n",
      "4.5\n",
      "Hello RBG\n"
     ]
    }
   ],
   "source": [
    "# python proghram to declare variable\n",
    "\n",
    "#integer\n",
    "x = 34\n",
    "print(x)\n",
    "\n",
    "#float\n",
    "x = 4.5\n",
    "print(x)\n",
    "\n",
    "#string\n",
    "x = \"Hello RBG\"\n",
    "print(x)"
   ]
  },
  {
   "cell_type": "markdown",
   "metadata": {},
   "source": [
    "Input and output:\n",
    "\n",
    "Here we will learn how to take input from the user and hence manipulate it or simply display it. input() function is used to take input from the user."
   ]
  },
  {
   "cell_type": "code",
   "execution_count": 8,
   "metadata": {},
   "outputs": [
    {
     "name": "stdout",
     "output_type": "stream",
     "text": [
      "Enter your name: RBG\n",
      "Hello RBG\n"
     ]
    }
   ],
   "source": [
    "# Python program to illustrate\n",
    "# getting input from user\n",
    "name = input(\"Enter your name: \") \n",
    "  \n",
    "# user entered the name 'harssh'\n",
    "print(\"Hello\", name)"
   ]
  },
  {
   "cell_type": "markdown",
   "metadata": {},
   "source": [
    "# Python Keywords\n",
    "\n",
    "Keywords in Python are reserved words that can not be used as a variable name, function name, or any other identifier."
   ]
  },
  {
   "cell_type": "code",
   "execution_count": 10,
   "metadata": {},
   "outputs": [
    {
     "name": "stdout",
     "output_type": "stream",
     "text": [
      "\n",
      "The list of keywords is : \n",
      "['False', 'None', 'True', 'and', 'as', 'assert', 'async', 'await', 'break', 'class', 'continue', 'def', 'del', 'elif', 'else', 'except', 'finally', 'for', 'from', 'global', 'if', 'import', 'in', 'is', 'lambda', 'nonlocal', 'not', 'or', 'pass', 'raise', 'return', 'try', 'while', 'with', 'yield']\n"
     ]
    }
   ],
   "source": [
    "# Python code to demonstrate working of iskeyword()\n",
    "  \n",
    "# importing \"keyword\" for keyword operations\n",
    "import keyword\n",
    "  \n",
    "# printing all keywords at once using \"kwlist()\"\n",
    "print(\"\\nThe list of keywords is : \")\n",
    "print(keyword.kwlist)"
   ]
  }
 ],
 "metadata": {
  "kernelspec": {
   "display_name": "Python 3",
   "language": "python",
   "name": "python3"
  },
  "language_info": {
   "codemirror_mode": {
    "name": "ipython",
    "version": 3
   },
   "file_extension": ".py",
   "mimetype": "text/x-python",
   "name": "python",
   "nbconvert_exporter": "python",
   "pygments_lexer": "ipython3",
   "version": "3.8.10"
  }
 },
 "nbformat": 4,
 "nbformat_minor": 4
}
